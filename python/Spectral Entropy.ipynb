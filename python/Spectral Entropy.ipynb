{
 "cells": [
  {
   "cell_type": "markdown",
   "metadata": {},
   "source": [
    "# Measurement of thermalization\n",
    "\n",
    "There are at least two ways to measure thermalization, the spectral entropy, and participation number.\n",
    "\n",
    "## Spectral Entropy\n",
    "\n",
    "Spectral entropy is given by\n",
    "$$S = -\\sum_i e_i \\ln(e_i),$$\n",
    "\n",
    "with $e_i/E$ the fractional energy in the $i$th mode. Using constrained optimization with the constraint\n",
    "\n",
    "$$\\sum_i e_i = 1,$$ \n",
    "\n",
    "one can show that this is maximized when all modes have equal energy $e_i = 1/N$, assuming all modes can be accessed by the non-linearity from a given initial condition. As Pace and Campbell noted in their 2019 paper, this has to be modified for the $\\beta$ FPUT model because in that case, energy cannot be exchanged between even and odd modes. Since the IC for the standard FPUT model has $e_1 = E$, $S_{max} = \\lceil N/2 \\rceil$. \n",
    "\n",
    "For us, what does this mean? Our non-linear term is mostly the same as the $\\alpha$ FPUT, but it does include the alternating $k_i$. The eigenmodes of the linear operator are no longer $\\propto \\sin(n \\pi q_i)$ where $q_i$ is the displacement from equilibrium of the $i$th mass. While the $\\sin(n\\pi q)$ modes are still an orthonormal basis, so if they are all accessible from the initial condition, then the maximum entropy remains the same.  **However**, even a single eigenmode of our model is a mixture of all $\\sin$ modes (or perhaps only the even/odd ones. \n",
    "\n",
    "The question is: does a single sine mode stay a single side mode? Of course it shouldn't, it's not a stationary state."
   ]
  },
  {
   "cell_type": "code",
   "execution_count": 1,
   "metadata": {},
   "outputs": [],
   "source": [
    "%matplotlib widget\n",
    "import h5py\n",
    "import numpy as np\n",
    "import matplotlib.pyplot as plt\n",
    "import utils\n",
    "import scipy.fftpack as fpack\n",
    "from matplotlib.widgets import Slider, Button\n",
    "plt.style.use('prl')"
   ]
  },
  {
   "cell_type": "markdown",
   "metadata": {},
   "source": [
    "First, load data from run B, which is a linear ($\\alpha = 0$), topologically protected run."
   ]
  },
  {
   "cell_type": "code",
   "execution_count": 2,
   "metadata": {},
   "outputs": [],
   "source": [
    "class fput_run:\n",
    "    def __init__(self, filename):\n",
    "        self.fn = filename\n",
    "        df = h5py.File(self.fn, \"r\")\n",
    "        self.p = df['tasks/p'][:]\n",
    "        self.q = df['tasks/q'][:]\n",
    "        self.t = df['scales/t'][:]\n",
    "\n",
    "        self.et = df['energies/e_tot'][:]\n",
    "        self.e1 = df['energies/e_1'][:]\n",
    "        self.e2 = df['energies/e_2'][:]\n",
    "        self.e1m = df['energies/e_1_emode'][:]\n",
    "        self.e2m = df['energies/e_2_emode'][:]\n",
    "        df.close()"
   ]
  },
  {
   "cell_type": "code",
   "execution_count": 3,
   "metadata": {},
   "outputs": [],
   "source": [
    "run_B = fput_run(\"data/run_B_output.h5\")\n",
    "run_C = fput_run(\"data/run_C_output.h5\")"
   ]
  },
  {
   "cell_type": "markdown",
   "metadata": {},
   "source": [
    "Next, construct its linear operator and calculate the eigenmodes and frequencies. "
   ]
  },
  {
   "cell_type": "code",
   "execution_count": 4,
   "metadata": {},
   "outputs": [],
   "source": [
    "ko = 0.5\n",
    "ke = 1\n",
    "N = 32\n",
    "H = utils.linear_operator(N, k1=ko, k2=ke)\n",
    "omega, evecs = utils.efreq(H)"
   ]
  },
  {
   "cell_type": "markdown",
   "metadata": {},
   "source": [
    "Project each $p_n(t)$, $q_n(t)$ against them, making sure to adjust $\\hat{q}_n(t)$ for its temporal part, $\\cos(\\omega_n t)$. Note that because the eigenvectors are for $q$, to get $p = \\dot{q}$ (since $m=1$), one multiplies by $-\\omega_n \\sin(\\omega_n t)$. So, we adjust $p$ appropriately. Note that the $\\omega_n$ factor is recovered exactly if one solves the first-order formulation of the equations of motion. In that case, the eigenvectors return both $q_n$ *and* $p_n$, verifying the relationship."
   ]
  },
  {
   "cell_type": "code",
   "execution_count": 11,
   "metadata": {},
   "outputs": [],
   "source": [
    "def emode_vs_t(p, q, t, evecs, omega):\n",
    "    p_hat = np.zeros_like(p[:,1:-1])\n",
    "    q_hat = np.zeros_like(q[:,1:-1])\n",
    "    for i in range(p.shape[0]):\n",
    "        p_hat[i,:], q_hat[i,:] = utils.eigenmode_transform(p[i,1:-1],q[i,1:-1],evecs)\n",
    "        p_hat[i,:] *= omega/np.sin(omega*t[i])\n",
    "        q_hat[i,:] /= np.cos(omega*t[i])\n",
    "        \n",
    "    return p_hat, q_hat"
   ]
  },
  {
   "cell_type": "code",
   "execution_count": 12,
   "metadata": {},
   "outputs": [
    {
     "data": {
      "application/vnd.jupyter.widget-view+json": {
       "model_id": "11d2fda7da6a4c4d88d88157716e46e6",
       "version_major": 2,
       "version_minor": 0
      },
      "text/plain": [
       "Canvas(toolbar=Toolbar(toolitems=[('Home', 'Reset original view', 'home', 'home'), ('Back', 'Back to previous …"
      ]
     },
     "metadata": {},
     "output_type": "display_data"
    },
    {
     "data": {
      "text/plain": [
       "<matplotlib.colorbar.Colorbar at 0x7f71cc78ed60>"
      ]
     },
     "execution_count": 12,
     "metadata": {},
     "output_type": "execute_result"
    }
   ],
   "source": [
    "plt.figure()\n",
    "plt.subplot(211)\n",
    "plt.imshow(run_B.q.T,extent=(0,100,0,31),origin='lower',interpolation='none')\n",
    "plt.colorbar()\n",
    "plt.subplot(212)\n",
    "plt.imshow(np.abs(run_B.p.T),extent=(0,100,0,31),origin='lower',interpolation='none')\n",
    "plt.colorbar()"
   ]
  },
  {
   "cell_type": "markdown",
   "metadata": {},
   "source": [
    "Now, compute the emode transform as well as the DST, to get the sine mode amplitudes for $q_n$. Note that because we use \"ghost masses\" outside the $N$ degree-of-freedom grid (that is, mass 0 and mass $N$ are fixed in position), if we restrict only to the $N$ degrees of freedom, our signal is odd about $-1$ and $N$, so we need the DST-Type I."
   ]
  },
  {
   "cell_type": "code",
   "execution_count": 13,
   "metadata": {},
   "outputs": [
    {
     "name": "stderr",
     "output_type": "stream",
     "text": [
      "<ipython-input-11-17a4cca76838>:6: RuntimeWarning: divide by zero encountered in true_divide\n",
      "  p_hat[i,:] *= omega/np.sin(omega*t[i])\n",
      "<ipython-input-11-17a4cca76838>:6: RuntimeWarning: invalid value encountered in multiply\n",
      "  p_hat[i,:] *= omega/np.sin(omega*t[i])\n"
     ]
    }
   ],
   "source": [
    "run_B.phat, run_B.qhat = emode_vs_t(run_B.p,run_B.q,run_B.t, evecs, omega)\n",
    "run_B.q_dst = fpack.dst(run_B.q[:,1:-1],type=1)\n",
    "\n",
    "run_C.phat, run_C.qhat = emode_vs_t(run_C.p,run_C.q,run_C.t, evecs, omega)\n",
    "run_C.q_dst = fpack.dst(run_C.q[:,1:-1],type=1)"
   ]
  },
  {
   "cell_type": "markdown",
   "metadata": {},
   "source": [
    "We can see that the eigenmodes are constant, at $n=15$, which is what we initialized run B with:"
   ]
  },
  {
   "cell_type": "code",
   "execution_count": 14,
   "metadata": {},
   "outputs": [
    {
     "data": {
      "application/vnd.jupyter.widget-view+json": {
       "model_id": "454bcdd44fab49e08b5217fbf0bd0648",
       "version_major": 2,
       "version_minor": 0
      },
      "text/plain": [
       "Canvas(toolbar=Toolbar(toolitems=[('Home', 'Reset original view', 'home', 'home'), ('Back', 'Back to previous …"
      ]
     },
     "metadata": {},
     "output_type": "display_data"
    },
    {
     "data": {
      "text/plain": [
       "<matplotlib.colorbar.Colorbar at 0x7f71cb94b5e0>"
      ]
     },
     "execution_count": 14,
     "metadata": {},
     "output_type": "execute_result"
    }
   ],
   "source": [
    "plt.figure()\n",
    "plt.subplot(211)\n",
    "plt.imshow(run_B.qhat.T,extent=(0,100,0,31),origin='lower',interpolation='none')\n",
    "plt.colorbar()\n",
    "plt.subplot(212)\n",
    "plt.imshow(np.abs(run_B.phat.T),extent=(0,100,0,31),origin='lower',interpolation='none')\n",
    "plt.colorbar()"
   ]
  },
  {
   "cell_type": "markdown",
   "metadata": {},
   "source": [
    "However, all odd-indexed $\\sin$ modes are excited. Have to be careful here, since mode number 0 is probably $\\sin(\\pi n/(N+1))$, so the odd *indexed* modes are probably the *even* modes..."
   ]
  },
  {
   "cell_type": "code",
   "execution_count": 21,
   "metadata": {},
   "outputs": [
    {
     "data": {
      "application/vnd.jupyter.widget-view+json": {
       "model_id": "85ebafb2ba6e4ab4bc3fe0715c871585",
       "version_major": 2,
       "version_minor": 0
      },
      "text/plain": [
       "Canvas(toolbar=Toolbar(toolitems=[('Home', 'Reset original view', 'home', 'home'), ('Back', 'Back to previous …"
      ]
     },
     "metadata": {},
     "output_type": "display_data"
    },
    {
     "data": {
      "text/plain": [
       "<matplotlib.image.AxesImage at 0x7f4a88066820>"
      ]
     },
     "execution_count": 21,
     "metadata": {},
     "output_type": "execute_result"
    }
   ],
   "source": [
    "plt.figure()\n",
    "plt.imshow(run_B.q_dst.T,extent=(0,100,0,31),interpolation='none')"
   ]
  },
  {
   "cell_type": "code",
   "execution_count": 22,
   "metadata": {},
   "outputs": [
    {
     "data": {
      "application/vnd.jupyter.widget-view+json": {
       "model_id": "86254af24ffa4eb6a28e7ed5e6a3ecb3",
       "version_major": 2,
       "version_minor": 0
      },
      "text/plain": [
       "Canvas(toolbar=Toolbar(toolitems=[('Home', 'Reset original view', 'home', 'home'), ('Back', 'Back to previous …"
      ]
     },
     "metadata": {},
     "output_type": "display_data"
    },
    {
     "data": {
      "text/plain": [
       "<matplotlib.legend.Legend at 0x7f4a8800ce20>"
      ]
     },
     "execution_count": 22,
     "metadata": {},
     "output_type": "execute_result"
    }
   ],
   "source": [
    "plt.figure()\n",
    "plt.plot(run_B.t, run_B.q_dst[:,13],label='mode 13')\n",
    "plt.plot(run_B.t, run_B.q_dst[:,15],label='mode 15')\n",
    "plt.plot(run_B.t,run_B.q_dst[:,16], label='mode 16')\n",
    "plt.legend()"
   ]
  },
  {
   "cell_type": "markdown",
   "metadata": {},
   "source": [
    "Run C is a linear, protected run with $n=15$ $\\sin$ mode as the initial conditon. Here, we look at the time evolution of the $\\sin$ amplitudes, and as expected, many of them participate in complex ways."
   ]
  },
  {
   "cell_type": "code",
   "execution_count": 23,
   "metadata": {},
   "outputs": [
    {
     "data": {
      "application/vnd.jupyter.widget-view+json": {
       "model_id": "7f9b145b9aa548ba9bc6d545d51c3279",
       "version_major": 2,
       "version_minor": 0
      },
      "text/plain": [
       "Canvas(toolbar=Toolbar(toolitems=[('Home', 'Reset original view', 'home', 'home'), ('Back', 'Back to previous …"
      ]
     },
     "metadata": {},
     "output_type": "display_data"
    },
    {
     "data": {
      "text/plain": [
       "<matplotlib.image.AxesImage at 0x7f4a87f936a0>"
      ]
     },
     "execution_count": 23,
     "metadata": {},
     "output_type": "execute_result"
    }
   ],
   "source": [
    "plt.figure()\n",
    "plt.imshow(run_C.q_dst.T,extent=(0,100,0,31),interpolation='none')"
   ]
  },
  {
   "cell_type": "code",
   "execution_count": 24,
   "metadata": {},
   "outputs": [
    {
     "data": {
      "application/vnd.jupyter.widget-view+json": {
       "model_id": "4dbd583a21614186ab2555b419c5537c",
       "version_major": 2,
       "version_minor": 0
      },
      "text/plain": [
       "Canvas(toolbar=Toolbar(toolitems=[('Home', 'Reset original view', 'home', 'home'), ('Back', 'Back to previous …"
      ]
     },
     "metadata": {},
     "output_type": "display_data"
    },
    {
     "data": {
      "text/plain": [
       "<matplotlib.legend.Legend at 0x7f4a87f398b0>"
      ]
     },
     "execution_count": 24,
     "metadata": {},
     "output_type": "execute_result"
    }
   ],
   "source": [
    "plt.figure()\n",
    "plt.plot(run_C.t, run_C.q_dst[:,12],label='mode 12')\n",
    "plt.plot(run_C.t, run_C.q_dst[:,14],label='mode 14')\n",
    "plt.plot(run_C.t,run_C.q_dst[:,16], label='mode 16')\n",
    "plt.legend()"
   ]
  },
  {
   "cell_type": "markdown",
   "metadata": {},
   "source": [
    "**Maybe we could calculate the entropy using the *eigenmodes* themselves?** As we can see below, the combination of eigenmodes excited by the $\\sin$ mode is fixed in time, though it is not, of course, at minimum entropy."
   ]
  },
  {
   "cell_type": "code",
   "execution_count": 25,
   "metadata": {},
   "outputs": [
    {
     "data": {
      "application/vnd.jupyter.widget-view+json": {
       "model_id": "b2521b5fcdf44110a6dc8756471ac157",
       "version_major": 2,
       "version_minor": 0
      },
      "text/plain": [
       "Canvas(toolbar=Toolbar(toolitems=[('Home', 'Reset original view', 'home', 'home'), ('Back', 'Back to previous …"
      ]
     },
     "metadata": {},
     "output_type": "display_data"
    },
    {
     "data": {
      "text/plain": [
       "<matplotlib.colorbar.Colorbar at 0x7f4a86db9100>"
      ]
     },
     "execution_count": 25,
     "metadata": {},
     "output_type": "execute_result"
    }
   ],
   "source": [
    "plt.figure()\n",
    "plt.subplot(211)\n",
    "plt.imshow(run_C.qhat.T,extent=(0,100,0,31),origin='lower',interpolation='none')\n",
    "plt.colorbar()\n",
    "plt.subplot(212)\n",
    "plt.imshow(np.abs(run_C.phat.T),extent=(0,100,0,31),origin='lower',interpolation='none')\n",
    "plt.colorbar()"
   ]
  },
  {
   "cell_type": "markdown",
   "metadata": {},
   "source": [
    "## Gravest eigenmodes\n",
    "\n",
    "How do $n=1$ modes compare between $\\mathrm{To} = 0$, $\\mathrm{To} < 0$, $\\mathrm{To} > 0$?"
   ]
  },
  {
   "cell_type": "code",
   "execution_count": 15,
   "metadata": {},
   "outputs": [
    {
     "data": {
      "application/vnd.jupyter.widget-view+json": {
       "model_id": "58982fc6f85f411aa6959fed1e0c49cd",
       "version_major": 2,
       "version_minor": 0
      },
      "text/plain": [
       "Canvas(toolbar=Toolbar(toolitems=[('Home', 'Reset original view', 'home', 'home'), ('Back', 'Back to previous …"
      ]
     },
     "metadata": {},
     "output_type": "display_data"
    }
   ],
   "source": [
    "n = np.arange(1,N+1)\n",
    "# Define initial parameters\n",
    "init_mode = 1\n",
    "\n",
    "# Create the figure and the line that we will manipulate\n",
    "fig, ax = plt.subplots()\n",
    "line1, = plt.plot(np.sin(np.pi*init_mode*n/(N+1)), 'o-', alpha=0.5, lw=2, label='sin mode {:d}'.format(init_mode))\n",
    "line2, = plt.plot(evecs[:,init_mode-1]/np.abs(evecs[:,init_mode-1]).max(), 'o-', alpha=0.5, lw=2, label='eigenmode {:d}'.format(init_mode))\n",
    "ax.legend()\n",
    "ax.set_ylim(-1,1)\n",
    "ax.set_xlabel('Mass')\n",
    "\n",
    "# adjust the main plot to make room for the sliders\n",
    "plt.subplots_adjust(bottom=0.25)\n",
    "\n",
    "# Make a horizontal slider to control the frequency.\n",
    "axfreq = plt.axes([0.25, 0.1, 0.65, 0.03])\n",
    "freq_slider = Slider(\n",
    "    ax=axfreq,\n",
    "    label='mode number',\n",
    "    valmin=1,\n",
    "    valmax=31,\n",
    "    valfmt='%0.0f',\n",
    "    valinit=init_mode,\n",
    ")\n",
    "\n",
    "\n",
    "# The function to be called anytime a slider's value changes\n",
    "def update(val):\n",
    "    mode= np.int(val)\n",
    "    line1.set_label('sin mode {:d}'.format(mode))\n",
    "    line2.set_label('eigenmode {:d}'.format(mode))\n",
    "    ax.legend()\n",
    "    line1.set_ydata(np.sin(np.pi*mode*n/(N+1)))\n",
    "    line2.set_ydata(evecs[:,mode-1]/np.abs(evecs[:,mode-1]).max())\n",
    "    fig.canvas.draw_idle()\n",
    "\n",
    "\n",
    "# register the update function with each slider\n",
    "freq_slider.on_changed(update)\n",
    "\n",
    "# Create a `matplotlib.widgets.Button` to reset the sliders to initial values.\n",
    "resetax = plt.axes([0.8, 0.025, 0.1, 0.04])\n",
    "button = Button(resetax, 'Reset', hovercolor='0.975')\n",
    "\n",
    "\n",
    "def reset(event):\n",
    "    freq_slider.reset()\n",
    "    amp_slider.reset()\n",
    "button.on_clicked(reset)\n",
    "\n",
    "plt.show()"
   ]
  },
  {
   "cell_type": "code",
   "execution_count": 16,
   "metadata": {},
   "outputs": [
    {
     "name": "stdout",
     "output_type": "stream",
     "text": [
      "Run B Energy = 0.7499942779540857\n",
      "Run C Energy = 11.474398794500468\n"
     ]
    }
   ],
   "source": [
    "print(\"Run B Energy = {}\".format(run_B.et[0]))\n",
    "print(\"Run C Energy = {}\".format(run_C.et[0]))"
   ]
  },
  {
   "cell_type": "markdown",
   "metadata": {},
   "source": [
    "## Participation number\n",
    "\n",
    "The "
   ]
  },
  {
   "cell_type": "markdown",
   "metadata": {},
   "source": [
    "# Old Stuff\n",
    "Old stuff to look at entropy contribution from a single mode..."
   ]
  },
  {
   "cell_type": "code",
   "execution_count": 16,
   "metadata": {},
   "outputs": [],
   "source": [
    "e = np.logspace(0,-10,1000)"
   ]
  },
  {
   "cell_type": "code",
   "execution_count": 17,
   "metadata": {},
   "outputs": [],
   "source": [
    "s = -e*np.log(e)"
   ]
  },
  {
   "cell_type": "code",
   "execution_count": 18,
   "metadata": {},
   "outputs": [
    {
     "data": {
      "text/plain": [
       "Text(0, 0.5, 'Entropy Contribution of a mode')"
      ]
     },
     "execution_count": 18,
     "metadata": {},
     "output_type": "execute_result"
    }
   ],
   "source": [
    "plt.semilogx(e,s)\n",
    "plt.axhline(-np.log(1/np.exp(1))/np.exp(1), alpha=0.4)\n",
    "plt.xlabel(\"Fractional energy\")\n",
    "plt.ylabel(\"Entropy Contribution of a mode\")"
   ]
  }
 ],
 "metadata": {
  "kernelspec": {
   "display_name": "Python 3",
   "language": "python",
   "name": "python3"
  },
  "language_info": {
   "codemirror_mode": {
    "name": "ipython",
    "version": 3
   },
   "file_extension": ".py",
   "mimetype": "text/x-python",
   "name": "python",
   "nbconvert_exporter": "python",
   "pygments_lexer": "ipython3",
   "version": "3.8.3"
  }
 },
 "nbformat": 4,
 "nbformat_minor": 4
}
